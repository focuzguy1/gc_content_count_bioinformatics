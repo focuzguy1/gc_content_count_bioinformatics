{
 "cells": [
  {
   "cell_type": "markdown",
   "id": "c66c1777",
   "metadata": {},
   "source": [
    "Name: Babalola Abdulhafeez Oluwabunmi\n",
    "Gmail: Babalolahafeez@gmail.com\n"
   ]
  },
  {
   "cell_type": "code",
   "execution_count": 105,
   "id": "6d6779f6",
   "metadata": {},
   "outputs": [],
   "source": [
    "#import modules\n",
    "from Bio import SeqIO\n",
    "from Bio.SeqUtils import GC\n"
   ]
  },
  {
   "cell_type": "code",
   "execution_count": 84,
   "id": "289a9a62",
   "metadata": {},
   "outputs": [],
   "source": [
    "#read the fasta file\n",
    "filename='C:\\\\Users\\\\USER\\\\Downloads\\\\blast\\\\db\\\\nucleocapsid.fasta'\n",
    "\n",
    "sequences = [ i for i in SeqIO.parse(filename,'fasta')]"
   ]
  },
  {
   "cell_type": "code",
   "execution_count": 117,
   "id": "b01f3165",
   "metadata": {},
   "outputs": [],
   "source": [
    "sequences_a = sequences[0]"
   ]
  },
  {
   "cell_type": "code",
   "execution_count": 111,
   "id": "0c9ee52e",
   "metadata": {},
   "outputs": [
    {
     "data": {
      "text/plain": [
       "1"
      ]
     },
     "execution_count": 111,
     "metadata": {},
     "output_type": "execute_result"
    }
   ],
   "source": [
    "len(sequences)"
   ]
  },
  {
   "cell_type": "code",
   "execution_count": 121,
   "id": "e444ba0e",
   "metadata": {
    "scrolled": true
   },
   "outputs": [
    {
     "name": "stdout",
     "output_type": "stream",
     "text": [
      "ID: QRY28438.1\n",
      "Name: QRY28438.1\n",
      "Description: QRY28438.1 nucleocapsid [Avian coronavirus]\n",
      "Number of features: 0\n",
      "Seq('MASGKATGKTDAPAPVIKLG')\n"
     ]
    }
   ],
   "source": [
    "\n",
    "print(sequence[0:20])"
   ]
  },
  {
   "cell_type": "code",
   "execution_count": 59,
   "id": "490d8fa0",
   "metadata": {},
   "outputs": [
    {
     "data": {
      "text/plain": [
       "'QRY28438.1'"
      ]
     },
     "execution_count": 59,
     "metadata": {},
     "output_type": "execute_result"
    }
   ],
   "source": [
    "sequences_a.name"
   ]
  },
  {
   "cell_type": "code",
   "execution_count": 60,
   "id": "4412ddc4",
   "metadata": {},
   "outputs": [],
   "source": [
    "#extract it in a separate folder"
   ]
  },
  {
   "cell_type": "code",
   "execution_count": 61,
   "id": "aea2b8b7",
   "metadata": {},
   "outputs": [],
   "source": [
    "neucleotide_of_interest=[]"
   ]
  },
  {
   "cell_type": "code",
   "execution_count": 62,
   "id": "ed066804",
   "metadata": {},
   "outputs": [],
   "source": [
    "for sequence in sequences:\n",
    "    if sequence.name=='QRY28438.1':\n",
    "        neucleotide_of_interest.append(sequence)"
   ]
  },
  {
   "cell_type": "code",
   "execution_count": 63,
   "id": "e683274d",
   "metadata": {},
   "outputs": [
    {
     "data": {
      "text/plain": [
       "1"
      ]
     },
     "execution_count": 63,
     "metadata": {},
     "output_type": "execute_result"
    }
   ],
   "source": [
    "len(neucleotide_of_interest)"
   ]
  },
  {
   "cell_type": "code",
   "execution_count": 64,
   "id": "c9955315",
   "metadata": {},
   "outputs": [],
   "source": [
    "for sequence in sequences:\n",
    "    if sequence.name=='QRY28438.1':\n",
    "        neucleotide_of_interest=sequence"
   ]
  },
  {
   "cell_type": "code",
   "execution_count": 65,
   "id": "a00d752b",
   "metadata": {},
   "outputs": [
    {
     "data": {
      "text/plain": [
       "'QRY28438.1'"
      ]
     },
     "execution_count": 65,
     "metadata": {},
     "output_type": "execute_result"
    }
   ],
   "source": [
    "neucleotide_of_interest.name"
   ]
  },
  {
   "cell_type": "code",
   "execution_count": 66,
   "id": "87c3fff4",
   "metadata": {},
   "outputs": [
    {
     "data": {
      "text/plain": [
       "1"
      ]
     },
     "execution_count": 66,
     "metadata": {},
     "output_type": "execute_result"
    }
   ],
   "source": [
    "#saving a sequence to an output file\n",
    "SeqIO.write(neucleotide_of_interest,'C:\\\\Users\\\\USER\\\\Downloads\\\\blast\\\\db\\\\QRY28438.1.fasta','fasta')"
   ]
  },
  {
   "cell_type": "code",
   "execution_count": 67,
   "id": "523a195c",
   "metadata": {},
   "outputs": [],
   "source": [
    "#iterating to get the information\n",
    "sequences_of_interest=['UED13291.1','QPB10672.1','QRY28438.1','AWN00700.1','AWN00709.1','AWN00717.1','QTF66025.1','AWN00684.1','AWN00692.1','AWN00661.1','AWN00669.1','AWN00677.1','AUI40912.1','AUI40913.1','AUI40914.1','AUI40911.1','AUI40910.1','AUI40915.1','QDY92325.1','AWN00655.1']\n"
   ]
  },
  {
   "cell_type": "code",
   "execution_count": 68,
   "id": "f33ed3c1",
   "metadata": {},
   "outputs": [],
   "source": [
    "#create a function to extract a sequence\n",
    "\n",
    "def extract_sequence(sequence_name):\n",
    "    for sequence in sequences:\n",
    "        if sequence.name== sequence_name:    \n",
    "            return sequence"
   ]
  },
  {
   "cell_type": "code",
   "execution_count": 69,
   "id": "6def3720",
   "metadata": {},
   "outputs": [],
   "source": [
    "\n",
    "neucleotide_of_interest=[]\n",
    "for neucleotide in sequences_of_interest:\n",
    "    hit = extract_sequence(neucleotide)\n",
    "    neucleotide_of_interest.append(hit)  "
   ]
  },
  {
   "cell_type": "code",
   "execution_count": 70,
   "id": "df82f832",
   "metadata": {},
   "outputs": [
    {
     "data": {
      "text/plain": [
       "20"
      ]
     },
     "execution_count": 70,
     "metadata": {},
     "output_type": "execute_result"
    }
   ],
   "source": [
    "#count the sequence in fasta file\n",
    "len(neucleotide_of_interest)"
   ]
  },
  {
   "cell_type": "code",
   "execution_count": 71,
   "id": "1048d616",
   "metadata": {},
   "outputs": [],
   "source": []
  },
  {
   "cell_type": "code",
   "execution_count": 72,
   "id": "99de3089",
   "metadata": {},
   "outputs": [],
   "source": []
  },
  {
   "cell_type": "code",
   "execution_count": 73,
   "id": "1082dfd6",
   "metadata": {},
   "outputs": [],
   "source": []
  },
  {
   "cell_type": "code",
   "execution_count": 74,
   "id": "37d1f2aa",
   "metadata": {},
   "outputs": [],
   "source": []
  },
  {
   "cell_type": "markdown",
   "id": "c833eb05",
   "metadata": {},
   "source": []
  },
  {
   "cell_type": "code",
   "execution_count": 102,
   "id": "9db514c8",
   "metadata": {},
   "outputs": [
    {
     "name": "stdout",
     "output_type": "stream",
     "text": [
      "0.0\n"
     ]
    }
   ],
   "source": []
  },
  {
   "cell_type": "code",
   "execution_count": 103,
   "id": "0862955c",
   "metadata": {},
   "outputs": [],
   "source": []
  },
  {
   "cell_type": "code",
   "execution_count": null,
   "id": "692c46c0",
   "metadata": {},
   "outputs": [],
   "source": []
  },
  {
   "cell_type": "code",
   "execution_count": null,
   "id": "23a357ba",
   "metadata": {},
   "outputs": [],
   "source": []
  },
  {
   "cell_type": "markdown",
   "id": "d621b25c",
   "metadata": {},
   "source": []
  },
  {
   "cell_type": "code",
   "execution_count": null,
   "id": "0fdf8dcf",
   "metadata": {},
   "outputs": [],
   "source": []
  }
 ],
 "metadata": {
  "kernelspec": {
   "display_name": "Python 3 (ipykernel)",
   "language": "python",
   "name": "python3"
  },
  "language_info": {
   "codemirror_mode": {
    "name": "ipython",
    "version": 3
   },
   "file_extension": ".py",
   "mimetype": "text/x-python",
   "name": "python",
   "nbconvert_exporter": "python",
   "pygments_lexer": "ipython3",
   "version": "3.9.12"
  }
 },
 "nbformat": 4,
 "nbformat_minor": 5
}
